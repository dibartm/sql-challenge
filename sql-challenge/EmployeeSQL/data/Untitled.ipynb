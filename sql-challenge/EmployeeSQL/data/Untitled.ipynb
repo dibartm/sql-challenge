{
 "cells": [
  {
   "cell_type": "code",
   "execution_count": 1,
   "id": "18a970d4",
   "metadata": {},
   "outputs": [],
   "source": [
    "import pandas as pd\n"
   ]
  },
  {
   "cell_type": "code",
   "execution_count": 2,
   "id": "567f777d",
   "metadata": {},
   "outputs": [],
   "source": [
    "departments=pd.read_csv('departments.csv')\n",
    "dept_emp=pd.read_csv('dept_emp.csv')\n",
    "dept_manager=pd.read_csv('dept_manager.csv')\n",
    "employees=pd.read_csv('employees.csv')\n",
    "salaries=pd.read_csv('salaries.csv')\n",
    "titles=pd.read_csv('titles.csv')\n"
   ]
  },
  {
   "cell_type": "code",
   "execution_count": 3,
   "id": "9e4ba2f8",
   "metadata": {},
   "outputs": [
    {
     "name": "stdout",
     "output_type": "stream",
     "text": [
      "<class 'pandas.core.frame.DataFrame'>\n",
      "RangeIndex: 9 entries, 0 to 8\n",
      "Data columns (total 2 columns):\n",
      " #   Column     Non-Null Count  Dtype \n",
      "---  ------     --------------  ----- \n",
      " 0   dept_no    9 non-null      object\n",
      " 1   dept_name  9 non-null      object\n",
      "dtypes: object(2)\n",
      "memory usage: 272.0+ bytes\n"
     ]
    }
   ],
   "source": [
    "departments.info()"
   ]
  },
  {
   "cell_type": "code",
   "execution_count": 4,
   "id": "0a06aa03",
   "metadata": {},
   "outputs": [
    {
     "name": "stdout",
     "output_type": "stream",
     "text": [
      "<class 'pandas.core.frame.DataFrame'>\n",
      "RangeIndex: 331603 entries, 0 to 331602\n",
      "Data columns (total 2 columns):\n",
      " #   Column   Non-Null Count   Dtype \n",
      "---  ------   --------------   ----- \n",
      " 0   emp_no   331603 non-null  int64 \n",
      " 1   dept_no  331603 non-null  object\n",
      "dtypes: int64(1), object(1)\n",
      "memory usage: 5.1+ MB\n"
     ]
    }
   ],
   "source": [
    "dept_emp.info()"
   ]
  },
  {
   "cell_type": "code",
   "execution_count": 5,
   "id": "20e63ebc",
   "metadata": {},
   "outputs": [
    {
     "name": "stdout",
     "output_type": "stream",
     "text": [
      "<class 'pandas.core.frame.DataFrame'>\n",
      "RangeIndex: 24 entries, 0 to 23\n",
      "Data columns (total 2 columns):\n",
      " #   Column   Non-Null Count  Dtype \n",
      "---  ------   --------------  ----- \n",
      " 0   dept_no  24 non-null     object\n",
      " 1   emp_no   24 non-null     int64 \n",
      "dtypes: int64(1), object(1)\n",
      "memory usage: 512.0+ bytes\n"
     ]
    }
   ],
   "source": [
    "dept_manager.info()"
   ]
  },
  {
   "cell_type": "code",
   "execution_count": 6,
   "id": "a555a5af",
   "metadata": {},
   "outputs": [
    {
     "name": "stdout",
     "output_type": "stream",
     "text": [
      "<class 'pandas.core.frame.DataFrame'>\n",
      "RangeIndex: 300024 entries, 0 to 300023\n",
      "Data columns (total 7 columns):\n",
      " #   Column        Non-Null Count   Dtype \n",
      "---  ------        --------------   ----- \n",
      " 0   emp_no        300024 non-null  int64 \n",
      " 1   emp_title_id  300024 non-null  object\n",
      " 2   birth_date    300024 non-null  object\n",
      " 3   first_name    300024 non-null  object\n",
      " 4   last_name     300024 non-null  object\n",
      " 5   sex           300024 non-null  object\n",
      " 6   hire_date     300024 non-null  object\n",
      "dtypes: int64(1), object(6)\n",
      "memory usage: 16.0+ MB\n"
     ]
    }
   ],
   "source": [
    "employees.info()"
   ]
  },
  {
   "cell_type": "code",
   "execution_count": 7,
   "id": "ab8e866a",
   "metadata": {},
   "outputs": [
    {
     "name": "stdout",
     "output_type": "stream",
     "text": [
      "<class 'pandas.core.frame.DataFrame'>\n",
      "RangeIndex: 300024 entries, 0 to 300023\n",
      "Data columns (total 2 columns):\n",
      " #   Column  Non-Null Count   Dtype\n",
      "---  ------  --------------   -----\n",
      " 0   emp_no  300024 non-null  int64\n",
      " 1   salary  300024 non-null  int64\n",
      "dtypes: int64(2)\n",
      "memory usage: 4.6 MB\n"
     ]
    }
   ],
   "source": [
    "salaries.info()"
   ]
  },
  {
   "cell_type": "code",
   "execution_count": 8,
   "id": "2dcffa04",
   "metadata": {},
   "outputs": [
    {
     "name": "stdout",
     "output_type": "stream",
     "text": [
      "<class 'pandas.core.frame.DataFrame'>\n",
      "RangeIndex: 7 entries, 0 to 6\n",
      "Data columns (total 2 columns):\n",
      " #   Column    Non-Null Count  Dtype \n",
      "---  ------    --------------  ----- \n",
      " 0   title_id  7 non-null      object\n",
      " 1   title     7 non-null      object\n",
      "dtypes: object(2)\n",
      "memory usage: 240.0+ bytes\n"
     ]
    }
   ],
   "source": [
    "titles.info()"
   ]
  },
  {
   "cell_type": "code",
   "execution_count": 12,
   "id": "d8decf82",
   "metadata": {},
   "outputs": [
    {
     "name": "stdout",
     "output_type": "stream",
     "text": [
      "titles are unique True\n"
     ]
    }
   ],
   "source": [
    "print('titles are unique',len(titles['title_id'].unique())==len(titles['title_id']))"
   ]
  },
  {
   "cell_type": "code",
   "execution_count": 14,
   "id": "7b20cf47",
   "metadata": {},
   "outputs": [
    {
     "name": "stdout",
     "output_type": "stream",
     "text": [
      "titles are unique True\n"
     ]
    }
   ],
   "source": [
    "print('titles are unique',len(salaries['emp_no'].unique())==len(salaries['emp_no']))"
   ]
  },
  {
   "cell_type": "code",
   "execution_count": 15,
   "id": "7ad4cd6b",
   "metadata": {},
   "outputs": [
    {
     "name": "stdout",
     "output_type": "stream",
     "text": [
      "titles are unique True\n"
     ]
    }
   ],
   "source": [
    "print('titles are unique',len(employees['emp_no'].unique())==len(employees['emp_no']))"
   ]
  },
  {
   "cell_type": "code",
   "execution_count": 17,
   "id": "c2e6c4b2",
   "metadata": {},
   "outputs": [
    {
     "name": "stdout",
     "output_type": "stream",
     "text": [
      "titles are unique True\n"
     ]
    }
   ],
   "source": [
    "print('titles are unique',len(dept_manager['emp_no'].unique())==len(dept_manager['emp_no']))"
   ]
  },
  {
   "cell_type": "code",
   "execution_count": 9,
   "id": "f9c9e173",
   "metadata": {},
   "outputs": [
    {
     "name": "stdout",
     "output_type": "stream",
     "text": [
      "titles are unique False\n"
     ]
    }
   ],
   "source": [
    "print('titles are unique',len(dept_emp['emp_no'].unique())==len(dept_emp['emp_no']))"
   ]
  },
  {
   "cell_type": "code",
   "execution_count": 10,
   "id": "1113e44e",
   "metadata": {},
   "outputs": [
    {
     "name": "stdout",
     "output_type": "stream",
     "text": [
      "titles are unique True\n"
     ]
    }
   ],
   "source": [
    "print('titles are unique',len(departments['dept_no'].unique())==len(departments['dept_no']))"
   ]
  },
  {
   "cell_type": "code",
   "execution_count": null,
   "id": "48fa6378",
   "metadata": {},
   "outputs": [],
   "source": []
  }
 ],
 "metadata": {
  "kernelspec": {
   "display_name": "Python 3 (ipykernel)",
   "language": "python",
   "name": "python3"
  },
  "language_info": {
   "codemirror_mode": {
    "name": "ipython",
    "version": 3
   },
   "file_extension": ".py",
   "mimetype": "text/x-python",
   "name": "python",
   "nbconvert_exporter": "python",
   "pygments_lexer": "ipython3",
   "version": "3.10.9"
  }
 },
 "nbformat": 4,
 "nbformat_minor": 5
}
